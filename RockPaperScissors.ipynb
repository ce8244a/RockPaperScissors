{
 "cells": [
  {
   "cell_type": "code",
   "execution_count": 1,
   "metadata": {},
   "outputs": [
    {
     "name": "stdout",
     "output_type": "stream",
     "text": [
      "Enter a choice (rock, paper, scissors): rock\n",
      "Paper beats rock: You lose\n",
      "playing the game...\n",
      "do you wish to continue playing? (y/n)y\n",
      "Enter a choice (rock, paper, scissors): paper\n",
      "It's a draw\n",
      "playing the game...\n",
      "do you wish to continue playing? (y/n)y\n",
      "Enter a choice (rock, paper, scissors): scissors\n",
      "Rock beats scissors: You lose \n",
      "playing the game...\n",
      "do you wish to continue playing? (y/n)n\n"
     ]
    }
   ],
   "source": [
    "import random\n",
    "\n",
    "cont = \"y\"\n",
    "while cont == \"y\":\n",
    "    play_choice = (\"rock\", \"paper\", \"scissors\")\n",
    "    choice = random.randint(0, 3)\n",
    "    play_choice[choice]\n",
    "    \n",
    "    user = input(\"Enter a choice (rock, paper, scissors): \")\n",
    "    computer = play_choice[choice]\n",
    "    \n",
    "    if user == \"rock\" and computer == \"scissors\" :\n",
    "        print(f\"Rock beats scissors: You win \")\n",
    "    elif user == \"scissors\" and computer == \"paper\":\n",
    "        print(f\"Scissors beats paper: You win\")\n",
    "    elif user == \"paper\" and computer == \"rock\":\n",
    "        print(f\"Paper beats rock: You win\")     \n",
    "    elif user ==\"scissors\" and computer == \"rock\" :\n",
    "        print(f\"Rock beats scissors: You lose \")\n",
    "    elif user == \"paper\" and computer ==\"scissors\":\n",
    "        print(f\"Scissors beats paper: You lose\")\n",
    "    elif user == \"rock\" and computer ==\"paper\":\n",
    "        print(f\"Paper beats rock: You lose\")\n",
    "    else:\n",
    "        print(\"It's a draw\")\n",
    "    \n",
    "    print(\"playing the game...\")\n",
    "    \n",
    "    cont = input(\"do you wish to continue playing? (y/n)\")"
   ]
  },
  {
   "cell_type": "code",
   "execution_count": null,
   "metadata": {},
   "outputs": [],
   "source": []
  }
 ],
 "metadata": {
  "kernelspec": {
   "display_name": "Python 3",
   "language": "python",
   "name": "python3"
  },
  "language_info": {
   "codemirror_mode": {
    "name": "ipython",
    "version": 3
   },
   "file_extension": ".py",
   "mimetype": "text/x-python",
   "name": "python",
   "nbconvert_exporter": "python",
   "pygments_lexer": "ipython3",
   "version": "3.8.5"
  }
 },
 "nbformat": 4,
 "nbformat_minor": 4
}
